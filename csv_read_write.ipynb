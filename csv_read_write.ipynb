{
 "cells": [
  {
   "cell_type": "code",
   "execution_count": 1,
   "id": "24945bda-cf68-447b-aaa3-07c7ce2c9224",
   "metadata": {},
   "outputs": [],
   "source": [
    "import pyspark\n",
    "from pyspark.sql import SparkSession\n",
    "from pyspark.sql.types import StructType, StructField, IntegerType, StringType, DoubleType"
   ]
  },
  {
   "cell_type": "code",
   "execution_count": 2,
   "id": "14c7acbb-ec13-4acd-bef9-7ca650d60e05",
   "metadata": {},
   "outputs": [],
   "source": [
    "spark = SparkSession.builder.appName(\"test\").config(\"spark.driver.memory\", \"40g\").getOrCreate()"
   ]
  },
  {
   "cell_type": "code",
   "execution_count": 3,
   "id": "59624fc4-fea3-43c9-b644-a24eb7a29cda",
   "metadata": {},
   "outputs": [],
   "source": [
    "df = spark.read.option(\"header\", True).csv(\"wfp_food_prices_ecu.csv\")"
   ]
  },
  {
   "cell_type": "code",
   "execution_count": 4,
   "id": "e4d1442e-6f51-4514-bd73-12183eb503d9",
   "metadata": {},
   "outputs": [
    {
     "name": "stdout",
     "output_type": "stream",
     "text": [
      "root\n",
      " |-- date: string (nullable = true)\n",
      " |-- admin1: string (nullable = true)\n",
      " |-- admin2: string (nullable = true)\n",
      " |-- market: string (nullable = true)\n",
      " |-- latitude: string (nullable = true)\n",
      " |-- longitude: string (nullable = true)\n",
      " |-- category: string (nullable = true)\n",
      " |-- commodity: string (nullable = true)\n",
      " |-- unit: string (nullable = true)\n",
      " |-- priceflag: string (nullable = true)\n",
      " |-- pricetype: string (nullable = true)\n",
      " |-- currency: string (nullable = true)\n",
      " |-- price: string (nullable = true)\n",
      " |-- usdprice: string (nullable = true)\n",
      "\n"
     ]
    }
   ],
   "source": [
    "df.printSchema()"
   ]
  },
  {
   "cell_type": "code",
   "execution_count": 5,
   "id": "cd627d15-00f5-4718-ad4c-5b938c1520cd",
   "metadata": {},
   "outputs": [],
   "source": [
    "csv_schema = StructType(fields = [StructField (\"date\", StringType(), True ),\n",
    "                                  StructField (\"admin1\", StringType(), True ),\n",
    "                                  StructField (\"admin2\", StringType(), True ),\n",
    "                                  StructField (\"market\", StringType(), True ),\n",
    "                                  StructField (\"latitude\", StringType(), True ),\n",
    "                                  StructField (\"longitude\", StringType(), True ),\n",
    "                                  StructField (\"category\", StringType(), True ),\n",
    "                                  StructField (\"commodity\", StringType(), True ),\n",
    "                                  StructField (\"unit\", StringType(), True ),\n",
    "                                  StructField (\"priceflag\", StringType(), True ),\n",
    "                                  StructField (\"pricetype\", StringType(), True ),\n",
    "                                  StructField (\"currency\", StringType(), True ),\n",
    "                                  StructField (\"price\", StringType(), True ),\n",
    "                                  StructField (\"usdprice\", StringType(), True ),\n",
    "                                 ])"
   ]
  },
  {
   "cell_type": "code",
   "execution_count": 6,
   "id": "6bd27dcd-0121-449c-86fc-b9fa8336b98e",
   "metadata": {},
   "outputs": [],
   "source": [
    "df = spark.read.option(\"header\", True)\\\n",
    ".schema(csv_schema)\\\n",
    ".csv(\"wfp_food_prices_ecu.csv\")"
   ]
  },
  {
   "cell_type": "code",
   "execution_count": 7,
   "id": "fc08c40f-1682-4efb-9fec-4fec0971c8d1",
   "metadata": {},
   "outputs": [],
   "source": [
    "#select only required columns\n",
    "#style-1\n",
    "selected_df = df.select(\"date\",\"category\",\"unit\",\"currency\",\"price\")"
   ]
  },
  {
   "cell_type": "code",
   "execution_count": 8,
   "id": "96e590a6-cd1c-4100-aca3-8c8e08e6c70b",
   "metadata": {},
   "outputs": [
    {
     "name": "stdout",
     "output_type": "stream",
     "text": [
      "+----------+------------------+----------+---------+------+\n",
      "|      date|          category|      unit| currency| price|\n",
      "+----------+------------------+----------+---------+------+\n",
      "|     #date|        #item+type|#item+unit|#currency|#value|\n",
      "|2005-01-15|cereals and tubers|        KG|      USD|  0.23|\n",
      "|2005-01-15|cereals and tubers|        KG|      USD|  0.64|\n",
      "|2005-01-15|cereals and tubers|        KG|      USD|  0.22|\n",
      "|2005-01-15|cereals and tubers|        KG|      USD|  0.51|\n",
      "+----------+------------------+----------+---------+------+\n",
      "only showing top 5 rows\n",
      "\n"
     ]
    }
   ],
   "source": [
    "selected_df.show(5)"
   ]
  },
  {
   "cell_type": "code",
   "execution_count": 9,
   "id": "3c6d7fc1-6197-4d5b-b6bb-1b62f731f672",
   "metadata": {},
   "outputs": [],
   "source": [
    "#style-2\n",
    "selected_df = df.select(df.date,df.category,df.unit,df.currency,df.price)"
   ]
  },
  {
   "cell_type": "code",
   "execution_count": 10,
   "id": "38afa16f-f065-41c6-b42a-e067c238bc09",
   "metadata": {},
   "outputs": [
    {
     "name": "stdout",
     "output_type": "stream",
     "text": [
      "+----------+------------------+----------+---------+------+\n",
      "|      date|          category|      unit| currency| price|\n",
      "+----------+------------------+----------+---------+------+\n",
      "|     #date|        #item+type|#item+unit|#currency|#value|\n",
      "|2005-01-15|cereals and tubers|        KG|      USD|  0.23|\n",
      "|2005-01-15|cereals and tubers|        KG|      USD|  0.64|\n",
      "|2005-01-15|cereals and tubers|        KG|      USD|  0.22|\n",
      "|2005-01-15|cereals and tubers|        KG|      USD|  0.51|\n",
      "+----------+------------------+----------+---------+------+\n",
      "only showing top 5 rows\n",
      "\n"
     ]
    }
   ],
   "source": [
    "selected_df.show(5)"
   ]
  },
  {
   "cell_type": "code",
   "execution_count": 11,
   "id": "3329ea02-95cd-48e8-9dda-32e013b57d76",
   "metadata": {},
   "outputs": [],
   "source": [
    "#style-3\n",
    "from pyspark.sql.functions import col\n"
   ]
  },
  {
   "cell_type": "code",
   "execution_count": 12,
   "id": "2cfa741e-5111-475c-978a-b065a9849f20",
   "metadata": {},
   "outputs": [],
   "source": [
    "#can rename as well\n",
    "selected_df = df.select(col(\"date\"), col(\"category\"),col(\"unit\"),col(\"currency\"), col(\"price\").alias(\"usd_price\"))"
   ]
  },
  {
   "cell_type": "code",
   "execution_count": 13,
   "id": "9c2d4e60-79df-438e-9fee-a431e9630d9d",
   "metadata": {},
   "outputs": [],
   "source": [
    "#style-4\n",
    "selected_df = df.select(df[\"date\"],df[\"category\"],df[\"unit\"],df[\"currency\"],df[\"price\"])"
   ]
  },
  {
   "cell_type": "code",
   "execution_count": 14,
   "id": "53f97079-31fb-44dc-992c-39d644697344",
   "metadata": {},
   "outputs": [],
   "source": [
    "#rename column using withColumnRenamed\n",
    "renamed_df = df.withColumnRenamed(\"category\",\"type\")\\\n",
    ".withColumnRenamed(\"price\",\"npr\")"
   ]
  },
  {
   "cell_type": "code",
   "execution_count": 17,
   "id": "658112b9-f72d-4c7a-a0d4-74179ed8b40e",
   "metadata": {},
   "outputs": [],
   "source": [
    "from pyspark.sql.functions import current_timestamp,lit\n",
    "#add new column\n",
    "final_df = selected_df.withColumn(\"ingestion_date\", current_timestamp())\\\n",
    ".withColumn(\"env\", lit(\"Production\"))"
   ]
  },
  {
   "cell_type": "code",
   "execution_count": 20,
   "id": "970d779e-ded2-40b7-8213-ef5bf9ec91e5",
   "metadata": {},
   "outputs": [
    {
     "name": "stdout",
     "output_type": "stream",
     "text": [
      "+----------+------------------+----------+---------+------+--------------------------+----------+\n",
      "|date      |category          |unit      |currency |price |ingestion_date            |env       |\n",
      "+----------+------------------+----------+---------+------+--------------------------+----------+\n",
      "|#date     |#item+type        |#item+unit|#currency|#value|2024-01-24 09:32:42.720029|Production|\n",
      "|2005-01-15|cereals and tubers|KG        |USD      |0.23  |2024-01-24 09:32:42.720029|Production|\n",
      "|2005-01-15|cereals and tubers|KG        |USD      |0.64  |2024-01-24 09:32:42.720029|Production|\n",
      "|2005-01-15|cereals and tubers|KG        |USD      |0.22  |2024-01-24 09:32:42.720029|Production|\n",
      "|2005-01-15|cereals and tubers|KG        |USD      |0.51  |2024-01-24 09:32:42.720029|Production|\n",
      "+----------+------------------+----------+---------+------+--------------------------+----------+\n",
      "only showing top 5 rows\n",
      "\n"
     ]
    }
   ],
   "source": [
    "final_df.show(5, False) #truncate = False"
   ]
  },
  {
   "cell_type": "code",
   "execution_count": 23,
   "id": "b6bb8091-83ae-4299-b204-d6af520e0703",
   "metadata": {},
   "outputs": [],
   "source": [
    "#write dataframe\n",
    "#write in parquet format\n",
    "final_df.write.mode(\"overwrite\").parquet(\"C:/Users/bibhusha.ojha_genese/Desktop/SparkSQL/datalake\")"
   ]
  },
  {
   "cell_type": "code",
   "execution_count": 24,
   "id": "2d72400d-d577-4ca4-9593-b2fe1a1f7fe0",
   "metadata": {},
   "outputs": [],
   "source": [
    "df = spark.read.parquet(\"C:/Users/bibhusha.ojha_genese/Desktop/SparkSQL/datalake\")"
   ]
  },
  {
   "cell_type": "code",
   "execution_count": 26,
   "id": "65aa454a-43cf-4b30-ad37-9494115f619e",
   "metadata": {},
   "outputs": [
    {
     "name": "stdout",
     "output_type": "stream",
     "text": [
      "+----------+------------------+----------+---------+------+--------------------------+----------+\n",
      "|date      |category          |unit      |currency |price |ingestion_date            |env       |\n",
      "+----------+------------------+----------+---------+------+--------------------------+----------+\n",
      "|#date     |#item+type        |#item+unit|#currency|#value|2024-01-24 09:37:40.092338|Production|\n",
      "|2005-01-15|cereals and tubers|KG        |USD      |0.23  |2024-01-24 09:37:40.092338|Production|\n",
      "|2005-01-15|cereals and tubers|KG        |USD      |0.64  |2024-01-24 09:37:40.092338|Production|\n",
      "|2005-01-15|cereals and tubers|KG        |USD      |0.22  |2024-01-24 09:37:40.092338|Production|\n",
      "|2005-01-15|cereals and tubers|KG        |USD      |0.51  |2024-01-24 09:37:40.092338|Production|\n",
      "+----------+------------------+----------+---------+------+--------------------------+----------+\n",
      "only showing top 5 rows\n",
      "\n"
     ]
    }
   ],
   "source": [
    "df.show(5, False)"
   ]
  },
  {
   "cell_type": "code",
   "execution_count": 27,
   "id": "03123f05-1bcd-4027-afd0-cc1484f8db7e",
   "metadata": {},
   "outputs": [],
   "source": [
    "#partition\n",
    "final_df.write.mode(\"overwrite\").partitionBy(\"date\").parquet(\"C:/Users/bibhusha.ojha_genese/Desktop/SparkSQL/datalake\")"
   ]
  },
  {
   "cell_type": "code",
   "execution_count": null,
   "id": "7fbbd2d2-d2e9-4249-88e7-cf0a67c960e1",
   "metadata": {},
   "outputs": [],
   "source": []
  }
 ],
 "metadata": {
  "kernelspec": {
   "display_name": "Python 3 (ipykernel)",
   "language": "python",
   "name": "python3"
  },
  "language_info": {
   "codemirror_mode": {
    "name": "ipython",
    "version": 3
   },
   "file_extension": ".py",
   "mimetype": "text/x-python",
   "name": "python",
   "nbconvert_exporter": "python",
   "pygments_lexer": "ipython3",
   "version": "3.12.1"
  }
 },
 "nbformat": 4,
 "nbformat_minor": 5
}
