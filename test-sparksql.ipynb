{
 "cells": [
  {
   "cell_type": "code",
   "execution_count": 1,
   "id": "e3b2e0e0-21d7-4a1a-8ac8-1fc1d8fc2449",
   "metadata": {},
   "outputs": [],
   "source": [
    "import pyspark\n",
    "from pyspark.sql import SparkSession"
   ]
  },
  {
   "cell_type": "code",
   "execution_count": 2,
   "id": "19bea17e-0d55-492e-acd4-6ed31ebe34a2",
   "metadata": {},
   "outputs": [],
   "source": [
    "spark = SparkSession.builder.appName(\"sparksql\").config(\"spark.driver.memory\",\"40g\").getOrCreate()"
   ]
  },
  {
   "cell_type": "code",
   "execution_count": 3,
   "id": "42a6ee86-56c4-480a-a1eb-9c6c06a4ec7d",
   "metadata": {},
   "outputs": [
    {
     "data": {
      "text/html": [
       "\n",
       "            <div>\n",
       "                <p><b>SparkSession - in-memory</b></p>\n",
       "                \n",
       "        <div>\n",
       "            <p><b>SparkContext</b></p>\n",
       "\n",
       "            <p><a href=\"http://Genese-Bibhusha-Ojha:4040\">Spark UI</a></p>\n",
       "\n",
       "            <dl>\n",
       "              <dt>Version</dt>\n",
       "                <dd><code>v3.5.0</code></dd>\n",
       "              <dt>Master</dt>\n",
       "                <dd><code>local[*]</code></dd>\n",
       "              <dt>AppName</dt>\n",
       "                <dd><code>sparksql</code></dd>\n",
       "            </dl>\n",
       "        </div>\n",
       "        \n",
       "            </div>\n",
       "        "
      ],
      "text/plain": [
       "<pyspark.sql.session.SparkSession at 0x2cb173335f0>"
      ]
     },
     "execution_count": 3,
     "metadata": {},
     "output_type": "execute_result"
    }
   ],
   "source": [
    "spark"
   ]
  },
  {
   "cell_type": "code",
   "execution_count": 4,
   "id": "c60dfb2c-22d9-4bcb-978f-4ba0699157b4",
   "metadata": {},
   "outputs": [],
   "source": [
    "df = spark.read.csv(\"wfp_food_prices_ecu.csv\")"
   ]
  },
  {
   "cell_type": "code",
   "execution_count": 5,
   "id": "efb32689-0c68-4ee3-90f6-705431501855",
   "metadata": {},
   "outputs": [
    {
     "name": "stdout",
     "output_type": "stream",
     "text": [
      "+----------+----------+----------+----------------+--------+---------+------------------+-----------------+----------+----------------+----------------+---------+------+----------+\n",
      "|       _c0|       _c1|       _c2|             _c3|     _c4|      _c5|               _c6|              _c7|       _c8|             _c9|            _c10|     _c11|  _c12|      _c13|\n",
      "+----------+----------+----------+----------------+--------+---------+------------------+-----------------+----------+----------------+----------------+---------+------+----------+\n",
      "|      date|    admin1|    admin2|          market|latitude|longitude|          category|        commodity|      unit|       priceflag|       pricetype| currency| price|  usdprice|\n",
      "|     #date|#adm1+name|#adm2+name|#loc+market+name|#geo+lat| #geo+lon|        #item+type|       #item+name|#item+unit|#item+price+flag|#item+price+type|#currency|#value|#value+usd|\n",
      "|2005-01-15|     Azuay|    Cuenca|          Cuenca|   -2.88|   -78.98|cereals and tubers|         Potatoes|        KG|          actual|       Wholesale|      USD|  0.23|      0.23|\n",
      "|2005-01-15|     Azuay|    Cuenca|          Cuenca|   -2.88|   -78.98|cereals and tubers|Rice (long grain)|        KG|          actual|       Wholesale|      USD|  0.64|      0.64|\n",
      "|2005-01-15|    Guayas| Guayaquil|       Guayaquil|    -2.2|    -79.9|cereals and tubers|         Potatoes|        KG|          actual|       Wholesale|      USD|  0.22|      0.22|\n",
      "+----------+----------+----------+----------------+--------+---------+------------------+-----------------+----------+----------------+----------------+---------+------+----------+\n",
      "only showing top 5 rows\n",
      "\n"
     ]
    }
   ],
   "source": [
    "df.show(5)"
   ]
  },
  {
   "cell_type": "code",
   "execution_count": 6,
   "id": "a0609d2f-e4ff-4b21-82a0-ba6b3b3461c6",
   "metadata": {},
   "outputs": [
    {
     "name": "stdout",
     "output_type": "stream",
     "text": [
      "root\n",
      " |-- _c0: string (nullable = true)\n",
      " |-- _c1: string (nullable = true)\n",
      " |-- _c2: string (nullable = true)\n",
      " |-- _c3: string (nullable = true)\n",
      " |-- _c4: string (nullable = true)\n",
      " |-- _c5: string (nullable = true)\n",
      " |-- _c6: string (nullable = true)\n",
      " |-- _c7: string (nullable = true)\n",
      " |-- _c8: string (nullable = true)\n",
      " |-- _c9: string (nullable = true)\n",
      " |-- _c10: string (nullable = true)\n",
      " |-- _c11: string (nullable = true)\n",
      " |-- _c12: string (nullable = true)\n",
      " |-- _c13: string (nullable = true)\n",
      "\n"
     ]
    }
   ],
   "source": [
    "df.printSchema()"
   ]
  },
  {
   "cell_type": "code",
   "execution_count": 8,
   "id": "5a7796a6-09f4-4b23-8e2e-a59f9ed0395c",
   "metadata": {},
   "outputs": [],
   "source": [
    "df.createOrReplaceTempView(\"df\")"
   ]
  },
  {
   "cell_type": "code",
   "execution_count": 10,
   "id": "e107f745-2628-4cb2-8a47-38a097b219aa",
   "metadata": {},
   "outputs": [
    {
     "name": "stdout",
     "output_type": "stream",
     "text": [
      "+----------+----------+----------+----------------+--------+---------+------------------+-----------------+----------+----------------+----------------+---------+------+----------+\n",
      "|       _c0|       _c1|       _c2|             _c3|     _c4|      _c5|               _c6|              _c7|       _c8|             _c9|            _c10|     _c11|  _c12|      _c13|\n",
      "+----------+----------+----------+----------------+--------+---------+------------------+-----------------+----------+----------------+----------------+---------+------+----------+\n",
      "|      date|    admin1|    admin2|          market|latitude|longitude|          category|        commodity|      unit|       priceflag|       pricetype| currency| price|  usdprice|\n",
      "|     #date|#adm1+name|#adm2+name|#loc+market+name|#geo+lat| #geo+lon|        #item+type|       #item+name|#item+unit|#item+price+flag|#item+price+type|#currency|#value|#value+usd|\n",
      "|2005-01-15|     Azuay|    Cuenca|          Cuenca|   -2.88|   -78.98|cereals and tubers|         Potatoes|        KG|          actual|       Wholesale|      USD|  0.23|      0.23|\n",
      "|2005-01-15|     Azuay|    Cuenca|          Cuenca|   -2.88|   -78.98|cereals and tubers|Rice (long grain)|        KG|          actual|       Wholesale|      USD|  0.64|      0.64|\n",
      "|2005-01-15|    Guayas| Guayaquil|       Guayaquil|    -2.2|    -79.9|cereals and tubers|         Potatoes|        KG|          actual|       Wholesale|      USD|  0.22|      0.22|\n",
      "|2005-01-15|    Guayas| Guayaquil|       Guayaquil|    -2.2|    -79.9|cereals and tubers|Rice (long grain)|        KG|          actual|       Wholesale|      USD|  0.51|      0.51|\n",
      "|2005-01-15|    Manabi|Portoviejo|      Portoviejo|   -1.06|   -80.46|cereals and tubers|Rice (long grain)|        KG|          actual|       Wholesale|      USD|  0.54|      0.54|\n",
      "|2005-01-15| Pichincha|     Quito|           Quito|   -0.23|   -78.52|cereals and tubers|         Potatoes|        KG|          actual|       Wholesale|      USD|  0.18|      0.18|\n",
      "|2005-01-15| Pichincha|     Quito|           Quito|   -0.23|   -78.52|cereals and tubers|Rice (long grain)|        KG|          actual|       Wholesale|      USD|  0.63|      0.63|\n",
      "|2005-01-15|Tungurahua|    Ambato|          Ambato|   -1.24|   -78.62|cereals and tubers|         Potatoes|        KG|          actual|       Wholesale|      USD|  0.15|      0.15|\n",
      "|2005-01-15|Tungurahua|    Ambato|          Ambato|   -1.24|   -78.62|cereals and tubers|Rice (long grain)|        KG|          actual|       Wholesale|      USD|  0.66|      0.66|\n",
      "|2005-02-15|     Azuay|    Cuenca|          Cuenca|   -2.88|   -78.98|cereals and tubers|         Potatoes|        KG|          actual|       Wholesale|      USD|  0.29|      0.29|\n",
      "|2005-02-15|     Azuay|    Cuenca|          Cuenca|   -2.88|   -78.98|cereals and tubers|Rice (long grain)|        KG|          actual|       Wholesale|      USD|  0.64|      0.64|\n",
      "|2005-02-15|    Guayas| Guayaquil|       Guayaquil|    -2.2|    -79.9|cereals and tubers|         Potatoes|        KG|          actual|       Wholesale|      USD|  0.27|      0.27|\n",
      "|2005-02-15|    Guayas| Guayaquil|       Guayaquil|    -2.2|    -79.9|cereals and tubers|Rice (long grain)|        KG|          actual|       Wholesale|      USD|  0.55|      0.55|\n",
      "|2005-02-15|    Manabi|Portoviejo|      Portoviejo|   -1.06|   -80.46|cereals and tubers|Rice (long grain)|        KG|          actual|       Wholesale|      USD|  0.56|      0.56|\n",
      "|2005-02-15| Pichincha|     Quito|           Quito|   -0.23|   -78.52|cereals and tubers|         Potatoes|        KG|          actual|       Wholesale|      USD|  0.25|      0.25|\n",
      "|2005-02-15| Pichincha|     Quito|           Quito|   -0.23|   -78.52|cereals and tubers|Rice (long grain)|        KG|          actual|       Wholesale|      USD|  0.63|      0.63|\n",
      "|2005-02-15|Tungurahua|    Ambato|          Ambato|   -1.24|   -78.62|cereals and tubers|         Potatoes|        KG|          actual|       Wholesale|      USD|  0.25|      0.25|\n",
      "|2005-02-15|Tungurahua|    Ambato|          Ambato|   -1.24|   -78.62|cereals and tubers|Rice (long grain)|        KG|          actual|       Wholesale|      USD|   0.7|       0.7|\n",
      "+----------+----------+----------+----------------+--------+---------+------------------+-----------------+----------+----------------+----------------+---------+------+----------+\n",
      "only showing top 20 rows\n",
      "\n"
     ]
    }
   ],
   "source": [
    "spark.sql(\"SELECT * FROM df\").show()"
   ]
  },
  {
   "cell_type": "code",
   "execution_count": 11,
   "id": "8da5a7e5-0e7b-42d8-aaca-3a9df9be841f",
   "metadata": {},
   "outputs": [
    {
     "name": "stdout",
     "output_type": "stream",
     "text": [
      "+----------+\n",
      "|count(_c2)|\n",
      "+----------+\n",
      "|      9703|\n",
      "+----------+\n",
      "\n"
     ]
    }
   ],
   "source": [
    "spark.sql(\"select count (_c2) from df\").show()"
   ]
  },
  {
   "cell_type": "code",
   "execution_count": 12,
   "id": "b4c0efae-7f0e-48c7-87d7-cf1969c057ef",
   "metadata": {},
   "outputs": [],
   "source": [
    "sqlDF = spark.sql(\"SELECT * FROM df\")"
   ]
  },
  {
   "cell_type": "code",
   "execution_count": 13,
   "id": "aa80d027-bc42-432e-b16e-a498222ed649",
   "metadata": {},
   "outputs": [
    {
     "name": "stdout",
     "output_type": "stream",
     "text": [
      "+----------+----------+----------+----------------+--------+---------+------------------+-----------------+----------+----------------+----------------+---------+------+----------+\n",
      "|       _c0|       _c1|       _c2|             _c3|     _c4|      _c5|               _c6|              _c7|       _c8|             _c9|            _c10|     _c11|  _c12|      _c13|\n",
      "+----------+----------+----------+----------------+--------+---------+------------------+-----------------+----------+----------------+----------------+---------+------+----------+\n",
      "|      date|    admin1|    admin2|          market|latitude|longitude|          category|        commodity|      unit|       priceflag|       pricetype| currency| price|  usdprice|\n",
      "|     #date|#adm1+name|#adm2+name|#loc+market+name|#geo+lat| #geo+lon|        #item+type|       #item+name|#item+unit|#item+price+flag|#item+price+type|#currency|#value|#value+usd|\n",
      "|2005-01-15|     Azuay|    Cuenca|          Cuenca|   -2.88|   -78.98|cereals and tubers|         Potatoes|        KG|          actual|       Wholesale|      USD|  0.23|      0.23|\n",
      "|2005-01-15|     Azuay|    Cuenca|          Cuenca|   -2.88|   -78.98|cereals and tubers|Rice (long grain)|        KG|          actual|       Wholesale|      USD|  0.64|      0.64|\n",
      "|2005-01-15|    Guayas| Guayaquil|       Guayaquil|    -2.2|    -79.9|cereals and tubers|         Potatoes|        KG|          actual|       Wholesale|      USD|  0.22|      0.22|\n",
      "|2005-01-15|    Guayas| Guayaquil|       Guayaquil|    -2.2|    -79.9|cereals and tubers|Rice (long grain)|        KG|          actual|       Wholesale|      USD|  0.51|      0.51|\n",
      "|2005-01-15|    Manabi|Portoviejo|      Portoviejo|   -1.06|   -80.46|cereals and tubers|Rice (long grain)|        KG|          actual|       Wholesale|      USD|  0.54|      0.54|\n",
      "|2005-01-15| Pichincha|     Quito|           Quito|   -0.23|   -78.52|cereals and tubers|         Potatoes|        KG|          actual|       Wholesale|      USD|  0.18|      0.18|\n",
      "|2005-01-15| Pichincha|     Quito|           Quito|   -0.23|   -78.52|cereals and tubers|Rice (long grain)|        KG|          actual|       Wholesale|      USD|  0.63|      0.63|\n",
      "|2005-01-15|Tungurahua|    Ambato|          Ambato|   -1.24|   -78.62|cereals and tubers|         Potatoes|        KG|          actual|       Wholesale|      USD|  0.15|      0.15|\n",
      "+----------+----------+----------+----------------+--------+---------+------------------+-----------------+----------+----------------+----------------+---------+------+----------+\n",
      "only showing top 10 rows\n",
      "\n"
     ]
    }
   ],
   "source": [
    "sqlDF.show(10)"
   ]
  },
  {
   "cell_type": "code",
   "execution_count": null,
   "id": "23462c18-be72-441f-9c16-dc35128d1afe",
   "metadata": {},
   "outputs": [],
   "source": []
  }
 ],
 "metadata": {
  "kernelspec": {
   "display_name": "Python 3 (ipykernel)",
   "language": "python",
   "name": "python3"
  },
  "language_info": {
   "codemirror_mode": {
    "name": "ipython",
    "version": 3
   },
   "file_extension": ".py",
   "mimetype": "text/x-python",
   "name": "python",
   "nbconvert_exporter": "python",
   "pygments_lexer": "ipython3",
   "version": "3.12.1"
  }
 },
 "nbformat": 4,
 "nbformat_minor": 5
}
